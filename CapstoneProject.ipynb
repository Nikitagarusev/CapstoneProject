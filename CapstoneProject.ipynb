{
    "nbformat_minor": 1, 
    "cells": [
        {
            "source": "# Clustering Toronto boroughs", 
            "cell_type": "markdown", 
            "metadata": {}
        }, 
        {
            "execution_count": 2, 
            "cell_type": "code", 
            "metadata": {
                "collapsed": true
            }, 
            "outputs": [
                {
                    "output_type": "stream", 
                    "name": "stdout", 
                    "text": "Requirement not upgraded as not directly required: geocoder in /opt/conda/envs/DSX-Python35/lib/python3.5/site-packages\nRequirement not upgraded as not directly required: ratelim in /opt/conda/envs/DSX-Python35/lib/python3.5/site-packages (from geocoder)\nRequirement not upgraded as not directly required: requests in /opt/conda/envs/DSX-Python35/lib/python3.5/site-packages (from geocoder)\nRequirement not upgraded as not directly required: click in /opt/conda/envs/DSX-Python35/lib/python3.5/site-packages (from geocoder)\nRequirement not upgraded as not directly required: six in /opt/conda/envs/DSX-Python35/lib/python3.5/site-packages (from geocoder)\nRequirement not upgraded as not directly required: future in /opt/conda/envs/DSX-Python35/lib/python3.5/site-packages (from geocoder)\nRequirement not upgraded as not directly required: decorator in /opt/conda/envs/DSX-Python35/lib/python3.5/site-packages (from ratelim->geocoder)\nRequirement not upgraded as not directly required: chardet<3.1.0,>=3.0.2 in /opt/conda/envs/DSX-Python35/lib/python3.5/site-packages (from requests->geocoder)\nRequirement not upgraded as not directly required: idna<2.7,>=2.5 in /opt/conda/envs/DSX-Python35/lib/python3.5/site-packages (from requests->geocoder)\nRequirement not upgraded as not directly required: urllib3<1.23,>=1.21.1 in /opt/conda/envs/DSX-Python35/lib/python3.5/site-packages (from requests->geocoder)\nRequirement not upgraded as not directly required: certifi>=2017.4.17 in /opt/conda/envs/DSX-Python35/lib/python3.5/site-packages (from requests->geocoder)\nDone!\n"
                }
            ], 
            "source": "import numpy as np\nimport pandas as pd\nimport json\nimport requests \n#import matplotlib.cm as cm\n#import matplotlib.colors as colors\n#pd.set_option('display.max_columns', None)\n#pd.set_option('display.max_rows', None)\n\n\nfrom bs4 import BeautifulSoup\n#from pandas.io.json import json_normalize\n#from sklearn.cluster import KMeans\n\n#!conda install -c conda-forge geopy --yes\n#from geopy.geocoders import Nominatim\n#!pip install folium\n#import folium\n!pip install geocoder\nimport geocoder\n\nprint('Done!')"
        }, 
        {
            "source": "## Scrapping data from Wikipedia with requests & BS4 (not assigned replaced)", 
            "cell_type": "markdown", 
            "metadata": {}
        }, 
        {
            "execution_count": 3, 
            "cell_type": "code", 
            "metadata": {}, 
            "outputs": [
                {
                    "execution_count": 3, 
                    "metadata": {}, 
                    "data": {
                        "text/html": "<div>\n<style scoped>\n    .dataframe tbody tr th:only-of-type {\n        vertical-align: middle;\n    }\n\n    .dataframe tbody tr th {\n        vertical-align: top;\n    }\n\n    .dataframe thead th {\n        text-align: right;\n    }\n</style>\n<table border=\"1\" class=\"dataframe\">\n  <thead>\n    <tr style=\"text-align: right;\">\n      <th></th>\n      <th>Postcode</th>\n      <th>Borough</th>\n      <th>Neighbourhood</th>\n    </tr>\n  </thead>\n  <tbody>\n    <tr>\n      <th>0</th>\n      <td>M3A</td>\n      <td>North York</td>\n      <td>Parkwoods</td>\n    </tr>\n    <tr>\n      <th>1</th>\n      <td>M4A</td>\n      <td>North York</td>\n      <td>Victoria Village</td>\n    </tr>\n    <tr>\n      <th>2</th>\n      <td>M5A</td>\n      <td>Downtown Toronto</td>\n      <td>Harbourfront</td>\n    </tr>\n    <tr>\n      <th>3</th>\n      <td>M5A</td>\n      <td>Downtown Toronto</td>\n      <td>Regent Park</td>\n    </tr>\n    <tr>\n      <th>4</th>\n      <td>M6A</td>\n      <td>North York</td>\n      <td>Lawrence Heights</td>\n    </tr>\n  </tbody>\n</table>\n</div>", 
                        "text/plain": "  Postcode           Borough     Neighbourhood\n0      M3A        North York         Parkwoods\n1      M4A        North York  Victoria Village\n2      M5A  Downtown Toronto      Harbourfront\n3      M5A  Downtown Toronto       Regent Park\n4      M6A        North York  Lawrence Heights"
                    }, 
                    "output_type": "execute_result"
                }
            ], 
            "source": "url='https://en.wikipedia.org/wiki/List_of_postal_codes_of_Canada:_M'\nwiki_page=requests.get(url,'lxml').text\nsoup=BeautifulSoup(wiki_page,'lxml')\n\nheader=['Postcode', 'Borough', 'Neighbourhood']\ncore=[]\n\ntabl=soup.find('table')\nfor tr in tabl.find_all('tr'):\n    td=tr.find_all('td')\n    if len(td)==3:\n      instance=['','','']\n      instance[0]=td[0].text.strip()\n      instance[1]=td[1].text.strip()\n      if td[2].text.strip().replace('\\n','')=='Not assigned':\n           instance[2]=td[1].text.strip()\n      else:\n           instance[2]=td[2].text.strip().replace('\\n','') \n      \n      core.append(instance)\n    \ndf=pd.DataFrame.from_records(core, columns=header)\n\ndf1=df[df.Borough != 'Not assigned']\ndf1.sort_values(by=['Postcode'])\ndf1.reset_index(drop=True, inplace=True)\ndf1.head()\n\n"
        }, 
        {
            "source": "## Merging rows with same postcodes", 
            "cell_type": "markdown", 
            "metadata": {}
        }, 
        {
            "execution_count": 4, 
            "cell_type": "code", 
            "metadata": {}, 
            "outputs": [
                {
                    "execution_count": 4, 
                    "metadata": {}, 
                    "data": {
                        "text/plain": "(103, 3)"
                    }, 
                    "output_type": "execute_result"
                }
            ], 
            "source": "df2=df1.copy()\ni=0\ndf2.is_copy=False\nfor i in range(df2.shape[0]):\n    if i != df2.shape[0]-1:\n        if df2.loc[i,'Postcode']==df2.loc[i+1,'Postcode']:\n            df2.loc[i+1,'Borough']='Duplicate'\n            df2.loc[i,'Neighbourhood']=df2.loc[i,'Neighbourhood']+', '+df2.loc[i+1,'Neighbourhood']\n            for e in range(i+1,df2.shape[0]):\n                if e != df2.shape[0]-1: \n                    if df2.loc[e,'Postcode']==df2.loc[e+1,'Postcode']:\n                        df2.loc[e+1,'Borough']='Duplicate'\n                        df2.loc[i,'Neighbourhood']=df2.loc[i,'Neighbourhood']+', '+df2.loc[e+1,'Neighbourhood']\n                    else:\n                        i=e+1\n                        break\ndf3=df2[df2.Borough != 'Duplicate']   \ndf3.reset_index(drop=True,inplace=True)\ndf3.shape"
        }, 
        {
            "source": "## Retrieveng coordinates with Bing Maps API", 
            "cell_type": "markdown", 
            "metadata": {}
        }, 
        {
            "execution_count": null, 
            "cell_type": "code", 
            "metadata": {}, 
            "outputs": [], 
            "source": "# The code was removed by Watson Studio for sharing."
        }, 
        {
            "execution_count": 5, 
            "cell_type": "code", 
            "metadata": {}, 
            "outputs": [
                {
                    "execution_count": 5, 
                    "metadata": {}, 
                    "data": {
                        "text/html": "<div>\n<style scoped>\n    .dataframe tbody tr th:only-of-type {\n        vertical-align: middle;\n    }\n\n    .dataframe tbody tr th {\n        vertical-align: top;\n    }\n\n    .dataframe thead th {\n        text-align: right;\n    }\n</style>\n<table border=\"1\" class=\"dataframe\">\n  <thead>\n    <tr style=\"text-align: right;\">\n      <th></th>\n      <th>Postcode</th>\n      <th>Borough</th>\n      <th>Neighbourhood</th>\n      <th>Latitude</th>\n      <th>Longitude</th>\n    </tr>\n  </thead>\n  <tbody>\n    <tr>\n      <th>0</th>\n      <td>M3A</td>\n      <td>North York</td>\n      <td>Parkwoods</td>\n      <td>43.751255</td>\n      <td>-79.329895</td>\n    </tr>\n    <tr>\n      <th>1</th>\n      <td>M4A</td>\n      <td>North York</td>\n      <td>Victoria Village</td>\n      <td>43.729958</td>\n      <td>-79.314201</td>\n    </tr>\n    <tr>\n      <th>2</th>\n      <td>M5A</td>\n      <td>Downtown Toronto</td>\n      <td>Harbourfront, Regent Park</td>\n      <td>43.655220</td>\n      <td>-79.361969</td>\n    </tr>\n    <tr>\n      <th>3</th>\n      <td>M6A</td>\n      <td>North York</td>\n      <td>Lawrence Heights, Lawrence Manor</td>\n      <td>43.722801</td>\n      <td>-79.450691</td>\n    </tr>\n    <tr>\n      <th>4</th>\n      <td>M7A</td>\n      <td>Queen's Park</td>\n      <td>Queen's Park</td>\n      <td>43.664486</td>\n      <td>-79.393021</td>\n    </tr>\n    <tr>\n      <th>5</th>\n      <td>M9A</td>\n      <td>Etobicoke</td>\n      <td>Islington Avenue</td>\n      <td>43.662743</td>\n      <td>-79.528427</td>\n    </tr>\n    <tr>\n      <th>6</th>\n      <td>M1B</td>\n      <td>Scarborough</td>\n      <td>Rouge, Malvern</td>\n      <td>43.810154</td>\n      <td>-79.194603</td>\n    </tr>\n    <tr>\n      <th>7</th>\n      <td>M3B</td>\n      <td>North York</td>\n      <td>Don Mills North</td>\n      <td>43.749134</td>\n      <td>-79.362007</td>\n    </tr>\n    <tr>\n      <th>8</th>\n      <td>M4B</td>\n      <td>East York</td>\n      <td>Woodbine Gardens, Parkview Hill</td>\n      <td>43.707577</td>\n      <td>-79.310913</td>\n    </tr>\n    <tr>\n      <th>9</th>\n      <td>M5B</td>\n      <td>Downtown Toronto</td>\n      <td>Ryerson, Garden District</td>\n      <td>43.657467</td>\n      <td>-79.377708</td>\n    </tr>\n    <tr>\n      <th>10</th>\n      <td>M6B</td>\n      <td>North York</td>\n      <td>Glencairn</td>\n      <td>43.706573</td>\n      <td>-79.447830</td>\n    </tr>\n    <tr>\n      <th>11</th>\n      <td>M9B</td>\n      <td>Etobicoke</td>\n      <td>Cloverdale, Islington, Martin Grove, Princess ...</td>\n      <td>43.650787</td>\n      <td>-79.550316</td>\n    </tr>\n    <tr>\n      <th>12</th>\n      <td>M1C</td>\n      <td>Scarborough</td>\n      <td>Highland Creek, Rouge Hill, Port Union</td>\n      <td>43.784672</td>\n      <td>-79.158958</td>\n    </tr>\n    <tr>\n      <th>13</th>\n      <td>M3C</td>\n      <td>North York</td>\n      <td>Flemingdon Park, Don Mills South</td>\n      <td>43.725864</td>\n      <td>-79.344620</td>\n    </tr>\n    <tr>\n      <th>14</th>\n      <td>M4C</td>\n      <td>East York</td>\n      <td>Woodbine Heights</td>\n      <td>43.689819</td>\n      <td>-79.310364</td>\n    </tr>\n  </tbody>\n</table>\n</div>", 
                        "text/plain": "   Postcode           Borough  \\\n0       M3A        North York   \n1       M4A        North York   \n2       M5A  Downtown Toronto   \n3       M6A        North York   \n4       M7A      Queen's Park   \n5       M9A         Etobicoke   \n6       M1B       Scarborough   \n7       M3B        North York   \n8       M4B         East York   \n9       M5B  Downtown Toronto   \n10      M6B        North York   \n11      M9B         Etobicoke   \n12      M1C       Scarborough   \n13      M3C        North York   \n14      M4C         East York   \n\n                                        Neighbourhood   Latitude  Longitude  \n0                                           Parkwoods  43.751255 -79.329895  \n1                                    Victoria Village  43.729958 -79.314201  \n2                           Harbourfront, Regent Park  43.655220 -79.361969  \n3                    Lawrence Heights, Lawrence Manor  43.722801 -79.450691  \n4                                        Queen's Park  43.664486 -79.393021  \n5                                    Islington Avenue  43.662743 -79.528427  \n6                                      Rouge, Malvern  43.810154 -79.194603  \n7                                     Don Mills North  43.749134 -79.362007  \n8                     Woodbine Gardens, Parkview Hill  43.707577 -79.310913  \n9                            Ryerson, Garden District  43.657467 -79.377708  \n10                                          Glencairn  43.706573 -79.447830  \n11  Cloverdale, Islington, Martin Grove, Princess ...  43.650787 -79.550316  \n12             Highland Creek, Rouge Hill, Port Union  43.784672 -79.158958  \n13                   Flemingdon Park, Don Mills South  43.725864 -79.344620  \n14                                   Woodbine Heights  43.689819 -79.310364  "
                    }, 
                    "output_type": "execute_result"
                }
            ], 
            "source": "def longlat(adress):\n        g = geocoder.bing('Toronto, Ontario' + adress, key=bing_credentials)\n        lat_lng_coords = g.latlng\n        return lat_lng_coords\ndf4=df3.copy()\n\ndf4['Latitude']=0\ndf4['Longitude']=0\n\nfor i in range (df4.shape[0]):\n    \n    df4.loc[i,'Longitude']=longlat(df4.loc[i,'Postcode'])[1]\n    df4.loc[i,'Latitude']=longlat(df4.loc[i,'Postcode'])[0]\n    #print('Toronto, Ontario ',df4.loc[i,'Postcode'],longlat(df4.loc[i,'Postcode'])[1],longlat(df4.loc[i,'Postcode'])[0])\n   \ndf4.head(15)"
        }, 
        {
            "execution_count": null, 
            "cell_type": "code", 
            "metadata": {}, 
            "outputs": [], 
            "source": ""
        }, 
        {
            "execution_count": null, 
            "cell_type": "code", 
            "metadata": {}, 
            "outputs": [], 
            "source": ""
        }, 
        {
            "execution_count": null, 
            "cell_type": "code", 
            "metadata": {}, 
            "outputs": [], 
            "source": ""
        }, 
        {
            "execution_count": null, 
            "cell_type": "code", 
            "metadata": {}, 
            "outputs": [], 
            "source": ""
        }, 
        {
            "execution_count": null, 
            "cell_type": "code", 
            "metadata": {}, 
            "outputs": [], 
            "source": ""
        }
    ], 
    "metadata": {
        "kernelspec": {
            "display_name": "Python 3.5", 
            "name": "python3", 
            "language": "python"
        }, 
        "language_info": {
            "mimetype": "text/x-python", 
            "nbconvert_exporter": "python", 
            "version": "3.5.5", 
            "name": "python", 
            "file_extension": ".py", 
            "pygments_lexer": "ipython3", 
            "codemirror_mode": {
                "version": 3, 
                "name": "ipython"
            }
        }
    }, 
    "nbformat": 4
}